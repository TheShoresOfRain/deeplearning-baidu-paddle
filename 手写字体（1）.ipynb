{
 "cells": [
  {
   "cell_type": "code",
   "execution_count": 1,
   "metadata": {},
   "outputs": [],
   "source": [
    "import paddle\n",
    "import numpy as np\n",
    "import matplotlib.pyplot as plt\n"
   ]
  },
  {
   "cell_type": "code",
   "execution_count": 3,
   "metadata": {},
   "outputs": [
    {
     "name": "stdout",
     "output_type": "stream",
     "text": [
      "训练集样本量:60000,验证集样本量:10000\n"
     ]
    }
   ],
   "source": [
    "import paddle.vision.transforms as T\n",
    "\n",
    "transform=T.Normalize(mean=[127.5],std=[127.5])\n",
    "\n",
    "train_dataset=paddle.vision.datasets.MNIST(mode='train',transform=transform)\n",
    "\n",
    "eval_dataset=paddle.vision.datasets.MNIST(mode='test',transform=transform)\n",
    "\n",
    "print('训练集样本量:{},验证集样本量:{}'.format(len(train_dataset),len(eval_dataset)))"
   ]
  },
  {
   "cell_type": "code",
   "execution_count": 5,
   "metadata": {},
   "outputs": [
    {
     "name": "stdout",
     "output_type": "stream",
     "text": [
      "图片:\n",
      "<class 'numpy.ndarray'>\n",
      "[[[-1.         -1.         -1.         -1.         -1.\n",
      "   -1.         -1.         -1.         -1.         -1.\n",
      "   -1.         -1.         -1.         -1.         -1.\n",
      "   -1.         -1.         -1.         -1.         -1.\n",
      "   -1.         -1.         -1.         -1.         -1.\n",
      "   -1.         -1.         -1.        ]\n",
      "  [-1.         -1.         -1.         -1.         -1.\n",
      "   -1.         -1.         -1.         -1.         -1.\n",
      "   -1.         -1.         -1.         -1.         -1.\n",
      "   -1.         -1.         -1.         -1.         -1.\n",
      "   -1.         -1.         -1.         -1.         -1.\n",
      "   -1.         -1.         -1.        ]\n",
      "  [-1.         -1.         -1.         -1.         -1.\n",
      "   -1.         -1.         -1.         -1.         -1.\n",
      "   -1.         -1.         -1.         -1.         -1.\n",
      "   -1.         -1.         -1.         -1.         -1.\n",
      "   -1.         -1.         -1.         -1.         -1.\n",
      "   -1.         -1.         -1.        ]\n",
      "  [-1.         -1.         -1.         -1.         -1.\n",
      "   -1.         -1.         -1.         -1.         -1.\n",
      "   -1.         -1.         -1.         -1.         -1.\n",
      "   -1.         -1.         -1.         -1.         -1.\n",
      "   -1.         -1.         -1.         -1.         -1.\n",
      "   -1.         -1.         -1.        ]\n",
      "  [-1.         -1.         -1.         -1.         -1.\n",
      "   -1.         -1.         -1.         -1.         -1.\n",
      "   -1.         -1.         -1.         -1.         -1.\n",
      "   -1.         -1.         -1.         -1.         -1.\n",
      "   -1.         -1.         -1.         -1.         -1.\n",
      "   -1.         -1.         -1.        ]\n",
      "  [-1.         -1.         -1.         -1.         -1.\n",
      "   -1.         -1.         -1.         -1.         -1.\n",
      "   -1.         -1.         -0.9764706  -0.85882354 -0.85882354\n",
      "   -0.85882354 -0.01176471  0.06666667  0.37254903 -0.79607844\n",
      "    0.3019608   1.          0.9372549  -0.00392157 -1.\n",
      "   -1.         -1.         -1.        ]\n",
      "  [-1.         -1.         -1.         -1.         -1.\n",
      "   -1.         -1.         -1.         -0.7647059  -0.7176471\n",
      "   -0.2627451   0.20784314  0.33333334  0.9843137   0.9843137\n",
      "    0.9843137   0.9843137   0.9843137   0.7647059   0.34901962\n",
      "    0.9843137   0.8980392   0.5294118  -0.49803922 -1.\n",
      "   -1.         -1.         -1.        ]\n",
      "  [-1.         -1.         -1.         -1.         -1.\n",
      "   -1.         -1.         -0.6156863   0.8666667   0.9843137\n",
      "    0.9843137   0.9843137   0.9843137   0.9843137   0.9843137\n",
      "    0.9843137   0.9843137   0.96862745 -0.27058825 -0.35686275\n",
      "   -0.35686275 -0.56078434 -0.69411767 -1.         -1.\n",
      "   -1.         -1.         -1.        ]\n",
      "  [-1.         -1.         -1.         -1.         -1.\n",
      "   -1.         -1.         -0.85882354  0.7176471   0.9843137\n",
      "    0.9843137   0.9843137   0.9843137   0.9843137   0.5529412\n",
      "    0.42745098  0.9372549   0.8901961  -1.         -1.\n",
      "   -1.         -1.         -1.         -1.         -1.\n",
      "   -1.         -1.         -1.        ]\n",
      "  [-1.         -1.         -1.         -1.         -1.\n",
      "   -1.         -1.         -1.         -0.37254903  0.22352941\n",
      "   -0.16078432  0.9843137   0.9843137   0.60784316 -0.9137255\n",
      "   -1.         -0.6627451   0.20784314 -1.         -1.\n",
      "   -1.         -1.         -1.         -1.         -1.\n",
      "   -1.         -1.         -1.        ]\n",
      "  [-1.         -1.         -1.         -1.         -1.\n",
      "   -1.         -1.         -1.         -1.         -0.8901961\n",
      "   -0.99215686  0.20784314  0.9843137  -0.29411766 -1.\n",
      "   -1.         -1.         -1.         -1.         -1.\n",
      "   -1.         -1.         -1.         -1.         -1.\n",
      "   -1.         -1.         -1.        ]\n",
      "  [-1.         -1.         -1.         -1.         -1.\n",
      "   -1.         -1.         -1.         -1.         -1.\n",
      "   -1.          0.09019608  0.9843137   0.49019608 -0.9843137\n",
      "   -1.         -1.         -1.         -1.         -1.\n",
      "   -1.         -1.         -1.         -1.         -1.\n",
      "   -1.         -1.         -1.        ]\n",
      "  [-1.         -1.         -1.         -1.         -1.\n",
      "   -1.         -1.         -1.         -1.         -1.\n",
      "   -1.         -0.9137255   0.49019608  0.9843137  -0.4509804\n",
      "   -1.         -1.         -1.         -1.         -1.\n",
      "   -1.         -1.         -1.         -1.         -1.\n",
      "   -1.         -1.         -1.        ]\n",
      "  [-1.         -1.         -1.         -1.         -1.\n",
      "   -1.         -1.         -1.         -1.         -1.\n",
      "   -1.         -1.         -0.7254902   0.8901961   0.7647059\n",
      "    0.25490198 -0.15294118 -0.99215686 -1.         -1.\n",
      "   -1.         -1.         -1.         -1.         -1.\n",
      "   -1.         -1.         -1.        ]\n",
      "  [-1.         -1.         -1.         -1.         -1.\n",
      "   -1.         -1.         -1.         -1.         -1.\n",
      "   -1.         -1.         -1.         -0.3647059   0.88235295\n",
      "    0.9843137   0.9843137  -0.06666667 -0.8039216  -1.\n",
      "   -1.         -1.         -1.         -1.         -1.\n",
      "   -1.         -1.         -1.        ]\n",
      "  [-1.         -1.         -1.         -1.         -1.\n",
      "   -1.         -1.         -1.         -1.         -1.\n",
      "   -1.         -1.         -1.         -1.         -0.64705884\n",
      "    0.45882353  0.9843137   0.9843137   0.1764706  -0.7882353\n",
      "   -1.         -1.         -1.         -1.         -1.\n",
      "   -1.         -1.         -1.        ]\n",
      "  [-1.         -1.         -1.         -1.         -1.\n",
      "   -1.         -1.         -1.         -1.         -1.\n",
      "   -1.         -1.         -1.         -1.         -1.\n",
      "   -0.8745098  -0.27058825  0.9764706   0.9843137   0.46666667\n",
      "   -1.         -1.         -1.         -1.         -1.\n",
      "   -1.         -1.         -1.        ]\n",
      "  [-1.         -1.         -1.         -1.         -1.\n",
      "   -1.         -1.         -1.         -1.         -1.\n",
      "   -1.         -1.         -1.         -1.         -1.\n",
      "   -1.         -1.          0.9529412   0.9843137   0.9529412\n",
      "   -0.49803922 -1.         -1.         -1.         -1.\n",
      "   -1.         -1.         -1.        ]\n",
      "  [-1.         -1.         -1.         -1.         -1.\n",
      "   -1.         -1.         -1.         -1.         -1.\n",
      "   -1.         -1.         -1.         -1.         -0.6392157\n",
      "    0.01960784  0.43529412  0.9843137   0.9843137   0.62352943\n",
      "   -0.9843137  -1.         -1.         -1.         -1.\n",
      "   -1.         -1.         -1.        ]\n",
      "  [-1.         -1.         -1.         -1.         -1.\n",
      "   -1.         -1.         -1.         -1.         -1.\n",
      "   -1.         -1.         -0.69411767  0.16078432  0.79607844\n",
      "    0.9843137   0.9843137   0.9843137   0.9607843   0.42745098\n",
      "   -1.         -1.         -1.         -1.         -1.\n",
      "   -1.         -1.         -1.        ]\n",
      "  [-1.         -1.         -1.         -1.         -1.\n",
      "   -1.         -1.         -1.         -1.         -1.\n",
      "   -0.8117647  -0.10588235  0.73333335  0.9843137   0.9843137\n",
      "    0.9843137   0.9843137   0.5764706  -0.3882353  -1.\n",
      "   -1.         -1.         -1.         -1.         -1.\n",
      "   -1.         -1.         -1.        ]\n",
      "  [-1.         -1.         -1.         -1.         -1.\n",
      "   -1.         -1.         -1.         -0.81960785 -0.48235294\n",
      "    0.67058825  0.9843137   0.9843137   0.9843137   0.9843137\n",
      "    0.5529412  -0.3647059  -0.9843137  -1.         -1.\n",
      "   -1.         -1.         -1.         -1.         -1.\n",
      "   -1.         -1.         -1.        ]\n",
      "  [-1.         -1.         -1.         -1.         -1.\n",
      "   -1.         -0.85882354  0.34117648  0.7176471   0.9843137\n",
      "    0.9843137   0.9843137   0.9843137   0.5294118  -0.37254903\n",
      "   -0.92941177 -1.         -1.         -1.         -1.\n",
      "   -1.         -1.         -1.         -1.         -1.\n",
      "   -1.         -1.         -1.        ]\n",
      "  [-1.         -1.         -1.         -1.         -0.5686275\n",
      "    0.34901962  0.77254903  0.9843137   0.9843137   0.9843137\n",
      "    0.9843137   0.9137255   0.04313726 -0.9137255  -1.\n",
      "   -1.         -1.         -1.         -1.         -1.\n",
      "   -1.         -1.         -1.         -1.         -1.\n",
      "   -1.         -1.         -1.        ]\n",
      "  [-1.         -1.         -1.         -1.          0.06666667\n",
      "    0.9843137   0.9843137   0.9843137   0.6627451   0.05882353\n",
      "    0.03529412 -0.8745098  -1.         -1.         -1.\n",
      "   -1.         -1.         -1.         -1.         -1.\n",
      "   -1.         -1.         -1.         -1.         -1.\n",
      "   -1.         -1.         -1.        ]\n",
      "  [-1.         -1.         -1.         -1.         -1.\n",
      "   -1.         -1.         -1.         -1.         -1.\n",
      "   -1.         -1.         -1.         -1.         -1.\n",
      "   -1.         -1.         -1.         -1.         -1.\n",
      "   -1.         -1.         -1.         -1.         -1.\n",
      "   -1.         -1.         -1.        ]\n",
      "  [-1.         -1.         -1.         -1.         -1.\n",
      "   -1.         -1.         -1.         -1.         -1.\n",
      "   -1.         -1.         -1.         -1.         -1.\n",
      "   -1.         -1.         -1.         -1.         -1.\n",
      "   -1.         -1.         -1.         -1.         -1.\n",
      "   -1.         -1.         -1.        ]\n",
      "  [-1.         -1.         -1.         -1.         -1.\n",
      "   -1.         -1.         -1.         -1.         -1.\n",
      "   -1.         -1.         -1.         -1.         -1.\n",
      "   -1.         -1.         -1.         -1.         -1.\n",
      "   -1.         -1.         -1.         -1.         -1.\n",
      "   -1.         -1.         -1.        ]]]\n",
      "标签:\n",
      "<class 'numpy.ndarray'>\n",
      "[5]\n"
     ]
    },
    {
     "data": {
      "image/png": "[encoded data removed]",
      "text/plain": [
       "<Figure size 432x288 with 1 Axes>"
      ]
     },
     "metadata": {
      "needs_background": "light"
     },
     "output_type": "display_data"
    }
   ],
   "source": [
    "print('图片:')\n",
    "print(type(train_dataset[0][0]))\n",
    "print(train_dataset[0][0])\n",
    "print('标签:')\n",
    "print(type(train_dataset[0][1]))\n",
    "print(train_dataset[0][1])\n",
    "\n",
    "plt.figure()\n",
    "plt.imshow(train_dataset[0][0].reshape([28,28]),cmap=plt.cm.binary)\n",
    "plt.show()"
   ]
  },
  {
   "cell_type": "code",
   "execution_count": 6,
   "metadata": {},
   "outputs": [],
   "source": [
    "network=paddle.nn.Sequential(\n",
    "    paddle.nn.Flatten(),      #拉平\n",
    "    paddle.nn.Linear(784,512), #隐层，线性变换层\n",
    "    paddle.nn.ReLU(),\n",
    "    paddle.nn.Linear(512,10)\n",
    ")"
   ]
  },
  {
   "cell_type": "code",
   "execution_count": 7,
   "metadata": {},
   "outputs": [
    {
     "name": "stdout",
     "output_type": "stream",
     "text": [
      "---------------------------------------------------------------------------\n",
      " Layer (type)       Input Shape          Output Shape         Param #    \n",
      "===========================================================================\n",
      "   Flatten-1       [[1, 28, 28]]           [1, 784]              0       \n",
      "   Linear-1          [[1, 784]]            [1, 512]           401,920    \n",
      "    ReLU-1           [[1, 512]]            [1, 512]              0       \n",
      "   Linear-2          [[1, 512]]            [1, 10]             5,130     \n",
      "===========================================================================\n",
      "Total params: 407,050\n",
      "Trainable params: 407,050\n",
      "Non-trainable params: 0\n",
      "---------------------------------------------------------------------------\n",
      "Input size (MB): 0.00\n",
      "Forward/backward pass size (MB): 0.01\n",
      "Params size (MB): 1.55\n",
      "Estimated Total Size (MB): 1.57\n",
      "---------------------------------------------------------------------------\n",
      "\n"
     ]
    },
    {
     "data": {
      "text/plain": [
       "{'total_params': 407050, 'trainable_params': 407050}"
      ]
     },
     "execution_count": 7,
     "metadata": {},
     "output_type": "execute_result"
    }
   ],
   "source": [
    "model=paddle.Model(network)\n",
    "\n",
    "model.summary((1,28,28))"
   ]
  },
  {
   "cell_type": "code",
   "execution_count": 8,
   "metadata": {},
   "outputs": [
    {
     "name": "stdout",
     "output_type": "stream",
     "text": [
      "The loss value printed in the log is the current step, and the metric is the average value of previous step.\n",
      "Epoch 1/5\n"
     ]
    },
    {
     "name": "stderr",
     "output_type": "stream",
     "text": [
      "D:\\anconda\\lib\\site-packages\\paddle\\fluid\\layers\\utils.py:77: DeprecationWarning: Using or importing the ABCs from 'collections' instead of from 'collections.abc' is deprecated since Python 3.3,and in 3.9 it will stop working\n",
      "  return (isinstance(seq, collections.Sequence) and\n"
     ]
    },
    {
     "name": "stdout",
     "output_type": "stream",
     "text": [
      "step 938/938 [==============================] - loss: 0.2293 - acc: 0.9136 - 16ms/step          \n",
      "Eval begin...\n",
      "The loss value printed in the log is the current batch, and the metric is the average value of previous step.\n",
      "step 157/157 [==============================] - loss: 0.0274 - acc: 0.9593 - 11ms/step          \n",
      "Eval samples: 10000\n",
      "Epoch 2/5\n",
      "step 938/938 [==============================] - loss: 0.0664 - acc: 0.9598 - 22ms/step          \n",
      "Eval begin...\n",
      "The loss value printed in the log is the current batch, and the metric is the average value of previous step.\n",
      "step 157/157 [==============================] - loss: 0.0304 - acc: 0.9627 - 12ms/step          \n",
      "Eval samples: 10000\n",
      "Epoch 3/5\n",
      "step 938/938 [==============================] - loss: 0.0294 - acc: 0.9686 - 24ms/step          \n",
      "Eval begin...\n",
      "The loss value printed in the log is the current batch, and the metric is the average value of previous step.\n",
      "step 157/157 [==============================] - loss: 0.0176 - acc: 0.9683 - 11ms/step          \n",
      "Eval samples: 10000\n",
      "Epoch 4/5\n",
      "step 938/938 [==============================] - loss: 0.0046 - acc: 0.9744 - 21ms/step          \n",
      "Eval begin...\n",
      "The loss value printed in the log is the current batch, and the metric is the average value of previous step.\n",
      "step 157/157 [==============================] - loss: 0.0039 - acc: 0.9671 - 11ms/step          \n",
      "Eval samples: 10000\n",
      "Epoch 5/5\n",
      "step 938/938 [==============================] - loss: 0.1508 - acc: 0.9759 - 22ms/step          \n",
      "Eval begin...\n",
      "The loss value printed in the log is the current batch, and the metric is the average value of previous step.\n",
      "step 157/157 [==============================] - loss: 2.5832e-04 - acc: 0.9739 - 11ms/step      \n",
      "Eval samples: 10000\n"
     ]
    }
   ],
   "source": [
    "model.prepare(paddle.optimizer.Adam(learning_rate=0.001,parameters=network.parameters()),\n",
    "              paddle.nn.CrossEntropyLoss(),\n",
    "              paddle.metric.Accuracy())\n",
    "model.fit(train_dataset,\n",
    "          eval_dataset,\n",
    "          epochs=5,\n",
    "          batch_size=64,\n",
    "          verbose=1\n",
    ")"
   ]
  },
  {
   "cell_type": "code",
   "execution_count": 9,
   "metadata": {},
   "outputs": [
    {
     "name": "stdout",
     "output_type": "stream",
     "text": [
      "Eval begin...\n",
      "The loss value printed in the log is the current batch, and the metric is the average value of previous step.\n",
      "step 10000/10000 [==============================] - loss: 8.3447e-07 - acc: 0.9739 - 4ms/step          \n",
      "Eval samples: 10000\n",
      "{'loss': [8.3446537e-07], 'acc': 0.9739}\n"
     ]
    }
   ],
   "source": [
    "result=model.evaluate(eval_dataset,verbose=1)\n",
    "print(result)"
   ]
  },
  {
   "cell_type": "code",
   "execution_count": 10,
   "metadata": {},
   "outputs": [
    {
     "name": "stdout",
     "output_type": "stream",
     "text": [
      "Predict begin...\n",
      "step 10000/10000 [==============================] - 4ms/step          \n",
      "Predict samples: 10000\n"
     ]
    },
    {
     "data": {
      "image/png": "[encoded data removed]",
      "text/plain": [
       "<Figure size 432x288 with 1 Axes>"
      ]
     },
     "metadata": {
      "needs_background": "light"
     },
     "output_type": "display_data"
    },
    {
     "data": {
      "image/png": "[encoded data removed]",
      "text/plain": [
       "<Figure size 432x288 with 1 Axes>"
      ]
     },
     "metadata": {
      "needs_background": "light"
     },
     "output_type": "display_data"
    },
    {
     "data": {
      "image/png": "[encoded data removed]",
      "text/plain": [
       "<Figure size 432x288 with 1 Axes>"
      ]
     },
     "metadata": {
      "needs_background": "light"
     },
     "output_type": "display_data"
    },
    {
     "data": {
      "image/png": "[encoded data removed]",
      "text/plain": [
       "<Figure size 432x288 with 1 Axes>"
      ]
     },
     "metadata": {
      "needs_background": "light"
     },
     "output_type": "display_data"
    },
    {
     "data": {
      "image/png": "[encoded data removed]",
      "text/plain": [
       "<Figure size 432x288 with 1 Axes>"
      ]
     },
     "metadata": {
      "needs_background": "light"
     },
     "output_type": "display_data"
    }
   ],
   "source": [
    "result=model.predict(eval_dataset)\n",
    "def show_img(img,predict):\n",
    "    plt.figure()\n",
    "    plt.title('predict:{}'.format(predict))\n",
    "    plt.imshow(img.reshape([28,28]),cmap=plt.cm.binary)\n",
    "    plt.show()\n",
    "indexs=[3,18,28,55,244]\n",
    "\n",
    "for idx in indexs:\n",
    "    show_img(eval_dataset[idx][0],np.argmax(result[0][idx]))"
   ]
  },
  {
   "cell_type": "code",
   "execution_count": 11,
   "metadata": {},
   "outputs": [],
   "source": [
    "model.save('mist')"
   ]
  },
  {
   "cell_type": "code",
   "execution_count": null,
   "metadata": {},
   "outputs": [],
   "source": []
  }
 ],
 "metadata": {
  "kernelspec": {
   "display_name": "Python 3",
   "language": "python",
   "name": "python3"
  },
  "language_info": {
   "codemirror_mode": {
    "name": "ipython",
    "version": 3
   },
   "file_extension": ".py",
   "mimetype": "text/x-python",
   "name": "python",
   "nbconvert_exporter": "python",
   "pygments_lexer": "ipython3",
   "version": "3.7.6"
  }
 },
 "nbformat": 4,
 "nbformat_minor": 4
}
